{
 "cells": [
  {
   "cell_type": "code",
   "execution_count": 2,
   "id": "a5194e66",
   "metadata": {
    "id": "a5194e66"
   },
   "outputs": [],
   "source": [
    "import cv2\n",
    "import numpy as np\n",
    "import matplotlib.pyplot as plt"
   ]
  },
  {
   "cell_type": "markdown",
   "id": "d63deea8",
   "metadata": {
    "id": "d63deea8"
   },
   "source": [
    "**Part 1 : Question 5**"
   ]
  },
  {
   "cell_type": "code",
   "execution_count": 3,
   "id": "853bb9ee",
   "metadata": {
    "colab": {
     "base_uri": "https://localhost:8080/"
    },
    "id": "853bb9ee",
    "outputId": "4cfbba4b-9f9d-46b1-aa6d-f3b2abb348b7"
   },
   "outputs": [
    {
     "data": {
      "text/plain": [
       "[[-2872.0, 1744.3, -138.7, 77270.0],\n",
       " [-273.9, -174.8, -3287.5, 94116.0],\n",
       " [-0.738, -0.648, -0.1883, 75.633]]"
      ]
     },
     "execution_count": 3,
     "metadata": {},
     "output_type": "execute_result"
    }
   ],
   "source": [
    "M = [[-2872.0, 1744.3, -138.7, 77270.0],\n",
    "    [-273.9, -174.8, -3287.5, 94116.0],\n",
    "    [-0.7380, -0.6480, -0.1883, 75.633]]\n",
    "M"
   ]
  },
  {
   "cell_type": "code",
   "execution_count": 4,
   "id": "ea0d4ca3",
   "metadata": {
    "colab": {
     "base_uri": "https://localhost:8080/"
    },
    "id": "ea0d4ca3",
    "outputId": "94a31d36-8b35-4699-a3c7-ea13fc0041ad"
   },
   "outputs": [
    {
     "data": {
      "text/plain": [
       "[[-2872.0, 1744.3, -138.7],\n",
       " [-273.9, -174.8, -3287.5],\n",
       " [-0.738, -0.648, -0.1883]]"
      ]
     },
     "execution_count": 4,
     "metadata": {},
     "output_type": "execute_result"
    }
   ],
   "source": [
    "H = [[-2872.0, 1744.3, -138.7],\n",
    "    [-273.9, -174.8, -3287.5],\n",
    "    [-0.7380, -0.6480, -0.1883]]\n",
    "H"
   ]
  },
  {
   "cell_type": "code",
   "execution_count": 5,
   "id": "8f39b870",
   "metadata": {
    "colab": {
     "base_uri": "https://localhost:8080/"
    },
    "id": "8f39b870",
    "outputId": "d4286f01-b9c5-4d2b-cdaa-c8b47dd14065"
   },
   "outputs": [
    {
     "data": {
      "text/plain": [
       "[[77270.0], [94116.0], [-0.1883]]"
      ]
     },
     "execution_count": 5,
     "metadata": {},
     "output_type": "execute_result"
    }
   ],
   "source": [
    "h = [[77270.0],\n",
    "    [94116.0],\n",
    "    [-0.1883]]\n",
    "h"
   ]
  },
  {
   "cell_type": "code",
   "execution_count": 12,
   "id": "41b1d890",
   "metadata": {
    "colab": {
     "base_uri": "https://localhost:8080/"
    },
    "id": "41b1d890",
    "outputId": "1e07fb34-eea2-45af-95c3-2638c677bb37"
   },
   "outputs": [
    {
     "name": "stdout",
     "output_type": "stream",
     "text": [
      "K= [[ 2885.03132646 -1719.82583214   450.18325349]\n",
      " [    0.           339.61309899  3259.46644535]\n",
      " [    0.             0.            10.36848054]]\n",
      "R [[-9.95483125e-01  9.49386423e-02  4.94846659e-05]\n",
      " [-9.49383105e-02 -9.95477972e-01 -3.21327546e-03]\n",
      " [-2.55803115e-04 -3.20345949e-03  9.99994836e-01]]\n"
     ]
    }
   ],
   "source": [
    "R, K  = np.linalg.qr(H)\n",
    "print(\"K=\", K)\n",
    "print(\"R\", R)"
   ]
  },
  {
   "cell_type": "code",
   "execution_count": 13,
   "id": "9ca7ac51",
   "metadata": {
    "colab": {
     "base_uri": "https://localhost:8080/"
    },
    "id": "9ca7ac51",
    "outputId": "2d08f02c-50e7-4ebc-e7be-ec073af0e2bc"
   },
   "outputs": [
    {
     "data": {
      "text/plain": [
       "array([[ 3.46616687e-04,  1.75529252e-03, -5.66848544e-01],\n",
       "       [ 0.00000000e+00,  2.94452718e-03, -9.25650340e-01],\n",
       "       [ 0.00000000e+00,  0.00000000e+00,  9.64461472e-02]])"
      ]
     },
     "execution_count": 13,
     "metadata": {},
     "output_type": "execute_result"
    }
   ],
   "source": [
    "K_inverse = np.linalg.inv(K)\n",
    "K_inverse"
   ]
  },
  {
   "cell_type": "code",
   "execution_count": 14,
   "id": "65b06e05",
   "metadata": {
    "colab": {
     "base_uri": "https://localhost:8080/"
    },
    "id": "65b06e05",
    "outputId": "fee3b7ea-590b-46af-b5c0-99555dcce6e1"
   },
   "outputs": [
    {
     "data": {
      "text/plain": [
       "array([[ 1.92090920e+02],\n",
       "       [ 2.77301420e+02],\n",
       "       [-1.81608095e-02]])"
      ]
     },
     "execution_count": 14,
     "metadata": {},
     "output_type": "execute_result"
    }
   ],
   "source": [
    "t = np.matmul(K_inverse, h)\n",
    "t"
   ]
  }
 ],
 "metadata": {
  "colab": {
   "name": "Aditya Sneh_19017.ipynb",
   "provenance": []
  },
  "kernelspec": {
   "display_name": "Python 3",
   "language": "python",
   "name": "python3"
  },
  "language_info": {
   "codemirror_mode": {
    "name": "ipython",
    "version": 3
   },
   "file_extension": ".py",
   "mimetype": "text/x-python",
   "name": "python",
   "nbconvert_exporter": "python",
   "pygments_lexer": "ipython3",
   "version": "3.8.8"
  }
 },
 "nbformat": 4,
 "nbformat_minor": 5
}
